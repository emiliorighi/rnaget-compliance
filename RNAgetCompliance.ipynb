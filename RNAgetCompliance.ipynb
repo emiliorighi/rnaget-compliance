{
 "cells": [
  {
   "cell_type": "code",
   "execution_count": null,
   "id": "f23051da-318a-44ab-b554-8cd82343f7a7",
   "metadata": {},
   "outputs": [],
   "source": [
    "from rnaget_client import RnaGet\n",
    "\n",
    "gtex = RnaGet(host='gtex') # gtex instance\n",
    "encode = RnaGet(host='encode') # encode instance\n"
   ]
  },
  {
   "cell_type": "markdown",
   "id": "a7ec688f-4457-478a-b4a8-311169c11dde",
   "metadata": {},
   "source": [
    "# /studies"
   ]
  },
  {
   "cell_type": "code",
   "execution_count": null,
   "id": "b545bad7-028c-44e5-9209-913b9ff23dfb",
   "metadata": {},
   "outputs": [],
   "source": [
    "[\n",
    "  {\n",
    "    \"id\": \"c4cf910c9ae54832902c954cb439e30c\",\n",
    "    \"version\": 1,\n",
    "    \"name\": \"Demo Study\",\n",
    "    \"description\": \"This study is part of the demo project\",\n",
    "    \"parentProjectID\": \"c2fe2aa6ad3043108bd88a30fc0303da\",\n",
    "    \"genome\": \"human GRCh38\"\n",
    "  }\n",
    "]"
   ]
  },
  {
   "cell_type": "code",
   "execution_count": null,
   "id": "dee65995-4200-4468-94e2-68040ad618dd",
   "metadata": {},
   "outputs": [],
   "source": [
    "gtex.get_studies()"
   ]
  },
  {
   "cell_type": "code",
   "execution_count": null,
   "id": "528a5549-3ae1-4933-a8a0-54ab51dfda41",
   "metadata": {},
   "outputs": [],
   "source": [
    "encode.get_studies()"
   ]
  },
  {
   "cell_type": "markdown",
   "id": "ef4248c0-44fc-4c53-94c4-17d50ca9d3fb",
   "metadata": {},
   "source": [
    "# /projects"
   ]
  },
  {
   "cell_type": "code",
   "execution_count": null,
   "id": "8da327c2-0144-43a4-8c2b-a1f65df5d5a3",
   "metadata": {},
   "outputs": [],
   "source": [
    "[\n",
    "  {\n",
    "    \"id\": \"c2fe2aa6ad3043108bd88a30fc0303da\",\n",
    "    \"version\": 1,\n",
    "    \"name\": \"Demo Project\",\n",
    "    \"description\": \"This is a small project to demo API funtions\"\n",
    "  }\n",
    "]"
   ]
  },
  {
   "cell_type": "code",
   "execution_count": null,
   "id": "dcbe6404-0188-486a-9697-42ac2bb06b05",
   "metadata": {},
   "outputs": [],
   "source": [
    "gtex.get_projects()"
   ]
  },
  {
   "cell_type": "code",
   "execution_count": null,
   "id": "28dba030-14bc-46fb-841c-f7f0f128bb0c",
   "metadata": {},
   "outputs": [],
   "source": [
    "encode.get_projects()"
   ]
  },
  {
   "cell_type": "markdown",
   "id": "ff63aa0c-efcd-42b1-bc00-2b9ddfe0f42c",
   "metadata": {},
   "source": [
    "# /expressions/filters"
   ]
  },
  {
   "cell_type": "code",
   "execution_count": null,
   "id": "05a83a07-af59-43b7-82aa-fa0c8bba840d",
   "metadata": {},
   "outputs": [],
   "source": [
    "[\n",
    "  {\n",
    "    \"filter\": \"tissue\",\n",
    "    \"fieldType\": \"string\",\n",
    "    \"description\": \"tissue of origin\",\n",
    "    \"values\": [\n",
    "      \"liver\"\n",
    "    ]\n",
    "  }\n",
    "]"
   ]
  },
  {
   "cell_type": "code",
   "execution_count": null,
   "id": "c4ce6611-2ade-4402-b7b4-5013ea8eb286",
   "metadata": {},
   "outputs": [],
   "source": [
    "gtex.get_filters(type=\"expressions\")"
   ]
  },
  {
   "cell_type": "code",
   "execution_count": null,
   "id": "dc9ee982-3c02-4cb7-be10-b3e35315a202",
   "metadata": {},
   "outputs": [],
   "source": [
    "encode.get_filters(type=\"expressions\")"
   ]
  },
  {
   "cell_type": "markdown",
   "id": "966106d3-d91d-4003-8fa8-6e9bcfc2ebe0",
   "metadata": {},
   "source": [
    "# /expressions/formats"
   ]
  },
  {
   "cell_type": "code",
   "execution_count": null,
   "id": "00365d0e-ebdb-4d2a-b845-f4660f0be3b1",
   "metadata": {},
   "outputs": [],
   "source": [
    "[\n",
    "  \"string\"\n",
    "]"
   ]
  },
  {
   "cell_type": "code",
   "execution_count": null,
   "id": "24ff935f-980e-4ae7-afca-44fb32fd425e",
   "metadata": {},
   "outputs": [],
   "source": [
    "gtex.get_expression_formats()"
   ]
  },
  {
   "cell_type": "code",
   "execution_count": null,
   "id": "a766a46c-67ca-43c2-98b6-9a96b8f55820",
   "metadata": {},
   "outputs": [],
   "source": [
    "encode.get_expression_formats()"
   ]
  },
  {
   "cell_type": "markdown",
   "id": "843a4212-9109-4f78-8df4-9d481e8e1089",
   "metadata": {},
   "source": [
    "# /expressions/ticket?format=tsv"
   ]
  },
  {
   "cell_type": "code",
   "execution_count": null,
   "id": "e2c7435d-c3ec-4844-a0f6-5d62d3618153",
   "metadata": {},
   "outputs": [],
   "source": [
    "{\n",
    "  \"version\": 1,\n",
    "  \"fileType\": \"loom\",\n",
    "  \"studyID\": \"c4cf910c9ae54832902c954cb439e30c\",\n",
    "  \"url\": \"string\",\n",
    "  \"units\": \"string\",\n",
    "  \"headers\": {},\n",
    "  \"md5\": \"string\"\n",
    "}"
   ]
  },
  {
   "cell_type": "code",
   "execution_count": null,
   "id": "9877a677-684c-476d-93e5-380065e462d2",
   "metadata": {},
   "outputs": [],
   "source": [
    "encode.get_expression_list(format=\"json\")"
   ]
  },
  {
   "cell_type": "code",
   "execution_count": null,
   "id": "475f6701-f0d4-4907-95a2-60e881fd0adb",
   "metadata": {},
   "outputs": [],
   "source": [
    "gtex.get_expression_list(format=\"tsv\")"
   ]
  },
  {
   "cell_type": "markdown",
   "id": "1ec45a72-6aaf-4965-92ce-aa8ea70dc08d",
   "metadata": {},
   "source": [
    "# /expressions/bytes?format=tsv"
   ]
  },
  {
   "cell_type": "code",
   "execution_count": null,
   "id": "33943f32-dc2a-4e48-b5bd-87c1e2559c6e",
   "metadata": {},
   "outputs": [],
   "source": [
    "encode.get_expression_list(format=\"json\", download=True)"
   ]
  },
  {
   "cell_type": "code",
   "execution_count": null,
   "id": "f66baa82-5641-4e90-8275-3f77e5f186c0",
   "metadata": {},
   "outputs": [],
   "source": [
    "encode.request_dict"
   ]
  },
  {
   "cell_type": "code",
   "execution_count": null,
   "id": "5cce08ba-2d08-42c7-96bf-db070870020e",
   "metadata": {},
   "outputs": [],
   "source": [
    "gtex.get_expression_list(format=\"tsv\", download=True)"
   ]
  },
  {
   "cell_type": "code",
   "execution_count": null,
   "id": "4596ac8a-c113-49d1-8ad7-92583eaca394",
   "metadata": {},
   "outputs": [],
   "source": [
    "gtex.request_dict"
   ]
  },
  {
   "cell_type": "markdown",
   "id": "a2dc8c64-2dc0-46bb-889f-efc9e9f8a79a",
   "metadata": {},
   "source": [
    "# /expressions/{id}/ticket"
   ]
  },
  {
   "cell_type": "code",
   "execution_count": null,
   "id": "934e13e5-34fc-47d3-a6fd-5d5c70c72fc0",
   "metadata": {},
   "outputs": [],
   "source": [
    "{\n",
    "  \"version\": 1,\n",
    "  \"fileType\": \"loom\",\n",
    "  \"studyID\": \"c4cf910c9ae54832902c954cb439e30c\",\n",
    "  \"url\": \"string\",\n",
    "  \"units\": \"string\",\n",
    "  \"headers\": {},\n",
    "  \"md5\": \"string\"\n",
    "}"
   ]
  },
  {
   "cell_type": "code",
   "execution_count": null,
   "id": "2d8cfc17-5fab-465c-890d-70bade950b56",
   "metadata": {},
   "outputs": [],
   "source": [
    "gtex_expression_id = \"gene_tpms\"\n",
    "payload = {\"featureNameList\": \"EGFR\", \"tissueSiteDetailIDs\": \"Adipose_Subcutaneous\"}\n",
    "\n",
    "gtex.get_expression(gtex_expression_id, **payload)"
   ]
  },
  {
   "cell_type": "code",
   "execution_count": null,
   "id": "271adfd7-020c-46b3-9b93-b1430ca66ca1",
   "metadata": {},
   "outputs": [],
   "source": [
    "encode_expression_id = \"EXPID002\"\n",
    "\n",
    "encode.get_expression(encode_expression_id)"
   ]
  },
  {
   "cell_type": "markdown",
   "id": "5220e2a7-de00-4bb0-98b1-c13ca141fa48",
   "metadata": {},
   "source": [
    "# /expressions/{id}/bytes"
   ]
  },
  {
   "cell_type": "markdown",
   "id": "de735f0f-f041-4e4c-81a4-5211a847b98c",
   "metadata": {},
   "source": [
    "Expected content-type:\n",
    "\n",
    "- text/tab-separated-values\n",
    "- application/octet-stream\n",
    "- application/vnd.loom\n",
    "\n"
   ]
  },
  {
   "cell_type": "code",
   "execution_count": 31,
   "id": "432a3433-1308-4c19-9f0e-b26a1f5e731f",
   "metadata": {},
   "outputs": [
    {
     "data": {
      "text/plain": [
       "<generator object Response.iter_content.<locals>.generate at 0x7fbc6ec56880>"
      ]
     },
     "execution_count": 31,
     "metadata": {},
     "output_type": "execute_result"
    }
   ],
   "source": [
    "gtex.get_expression(gtex_expression_id, download=True, **payload)"
   ]
  },
  {
   "cell_type": "code",
   "execution_count": 32,
   "id": "588321d1-6836-4233-a5da-bed9cf4b8ca7",
   "metadata": {},
   "outputs": [
    {
     "data": {
      "text/plain": [
       "{'url': 'http://gtexportal.org/rnaget/expressions/gene_tpms/bytes'}"
      ]
     },
     "execution_count": 32,
     "metadata": {},
     "output_type": "execute_result"
    }
   ],
   "source": [
    "gtex.request_dict"
   ]
  },
  {
   "cell_type": "code",
   "execution_count": 33,
   "id": "cde44a69-a6ed-414f-a896-871fa5c90d79",
   "metadata": {},
   "outputs": [
    {
     "data": {
      "text/plain": [
       "<generator object Response.iter_content.<locals>.generate at 0x7fbc6c710200>"
      ]
     },
     "execution_count": 33,
     "metadata": {},
     "output_type": "execute_result"
    }
   ],
   "source": [
    "encode.get_expression(encode_expression_id, download=True)"
   ]
  },
  {
   "cell_type": "code",
   "execution_count": 34,
   "id": "0d21b7e9-cb3d-4794-a58f-cf3e1f02b203",
   "metadata": {},
   "outputs": [
    {
     "data": {
      "text/plain": [
       "{'url': 'https://rnaget.encodeproject.org/expressions/EXPID002/bytes'}"
      ]
     },
     "execution_count": 34,
     "metadata": {},
     "output_type": "execute_result"
    }
   ],
   "source": [
    "encode.request_dict"
   ]
  },
  {
   "cell_type": "code",
   "execution_count": null,
   "id": "1aa3a977-8e21-4312-aab8-2f1fb6680509",
   "metadata": {},
   "outputs": [],
   "source": []
  }
 ],
 "metadata": {
  "kernelspec": {
   "display_name": "Python 3 (ipykernel)",
   "language": "python",
   "name": "python3"
  },
  "language_info": {
   "codemirror_mode": {
    "name": "ipython",
    "version": 3
   },
   "file_extension": ".py",
   "mimetype": "text/x-python",
   "name": "python",
   "nbconvert_exporter": "python",
   "pygments_lexer": "ipython3",
   "version": "3.10.11"
  }
 },
 "nbformat": 4,
 "nbformat_minor": 5
}
